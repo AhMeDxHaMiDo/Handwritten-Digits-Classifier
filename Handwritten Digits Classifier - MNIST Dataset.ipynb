{
 "cells": [
  {
   "cell_type": "markdown",
   "metadata": {},
   "source": [
    "# Handwritten Digits Classifier - Using MNIST Dataset\n",
    "\n",
    "#### This Notebook contains the following:\n",
    "\n",
    "1. Data Pre-Processing (Transforming, downloading, and loading the dataset)\n",
    "2. Building the Neural Network with PyTorch by using 2 ways.\n",
    "    1. Initializing weights and biases.\n",
    "    2. Forward pass and inference before training\n",
    "3. Training the Neural Network\n",
    "    1. Forward and backward passes.\n",
    "    2. Inference\n",
    "4. Accuracy Testing"
   ]
  },
  {
   "cell_type": "code",
   "execution_count": 1,
   "metadata": {},
   "outputs": [],
   "source": [
    "# Import the used libraries\n",
    "\n",
    "%matplotlib inline\n",
    "%config InlineBackend.figure_format = 'retina'\n",
    "\n",
    "from collections import OrderedDict\n",
    "\n",
    "import numpy as np\n",
    "import torch\n",
    "from torch import nn\n",
    "from torch import optim\n",
    "import torch.nn.functional as F\n",
    "\n",
    "import time\n",
    "import helper\n",
    "\n",
    "import matplotlib.pyplot as plt\n",
    "from torchvision import datasets, transforms"
   ]
  },
  {
   "cell_type": "markdown",
   "metadata": {},
   "source": [
    "## Download and load the dataset"
   ]
  },
  {
   "cell_type": "code",
   "execution_count": 2,
   "metadata": {},
   "outputs": [],
   "source": [
    "# Define a transform to normalize the data\n",
    "transform = transforms.Compose([transforms.ToTensor(),\n",
    "                              transforms.Normalize(mean = (0.5, 0.5, 0.5), std = (0.5, 0.5, 0.5)),\n",
    "                             ])\n",
    "# Download and load the training data\n",
    "trainset = datasets.MNIST('MNIST_data/', download=True, train=True, transform=transform)\n",
    "trainloader = torch.utils.data.DataLoader(trainset, batch_size=64, shuffle=True)\n",
    "\n",
    "# Download and load the test data\n",
    "testset = datasets.MNIST('MNIST_data/', download=True, train=False, transform=transform)\n",
    "testloader = torch.utils.data.DataLoader(testset, batch_size=64, shuffle=True)"
   ]
  },
  {
   "cell_type": "markdown",
   "metadata": {},
   "source": [
    "## Building networks with PyTorch\n",
    "\n",
    "Here I'll use PyTorch to build a simple feedfoward network to classify the MNIST images. The network will receive a digit image as input and predict the digit in the image.\n",
    "\n",
    "<img src=\"assets\\mlp_mnist.png\" width=\"600\">\n",
    "\n",
    "To build a neural network with PyTorch, we use the `torch.nn` module. The network itself is a class inheriting from `torch.nn.Module`. We define each of the operations separately, like `nn.Linear(784, 128)` for a fully connected linear layer with 784 inputs and 128 units.\n",
    "\n",
    "The class needs to include a `forward` method that implements the forward pass through the network. In this method, you pass some input tensor `x` through each of the operations you defined earlier. The `torch.nn` module also has functional equivalents for things like ReLUs in `torch.nn.functional`. This module is usually imported as `F`. Then to use a ReLU activation on some layer (which is just a tensor), we'd do `F.relu(x)`. Below are a few different commonly used activation functions.\n",
    "\n",
    "<img src=\"assets\\activation.png\" width=\"700\" />\n",
    "\n",
    "So, for this network, We'll build it with three fully connected layers, then a softmax output for predicting classes. The softmax function is similar to the sigmoid in that it squashes inputs between 0 and 1, but it's also normalized so that all the values sum to one like a proper probability distribution."
   ]
  },
  {
   "cell_type": "code",
   "execution_count": 3,
   "metadata": {},
   "outputs": [],
   "source": [
    "class Network(nn.Module):\n",
    "    def __init__(self):\n",
    "        super().__init__()\n",
    "        # Defining the layers, 128, 64, 10 units each.\n",
    "        \n",
    "        # First hidden layer, 784 input units and 128 output units.\n",
    "        self.fc1 = nn.Linear(784, 128)\n",
    "        # Second hidden layer, 128 input units and 64 output units.\n",
    "        self.fc2 = nn.Linear(128, 64)\n",
    "        # Output layer, 64 input units & 10 output units (one for each digit).\n",
    "        self.fc3 = nn.Linear(64, 10)\n",
    "        \n",
    "    def forward(self, x):\n",
    "        ''' Forward pass through the network, returns the output logits\n",
    "            Arguments.\n",
    "            ---------\n",
    "            x: input tensor.\n",
    "        '''\n",
    "        \n",
    "        x = self.fc1(x)\n",
    "        x = F.relu(x)    # x = F.relu(self.fc1(x))\n",
    "        x = self.fc2(x)\n",
    "        x = F.relu(x)\n",
    "        x = self.fc3(x)\n",
    "        x = F.softmax(x, dim=1)\n",
    "        # dim=1 means the output will be 1-D tensor (vector) ---> (10,1)\n",
    "        \n",
    "        return x"
   ]
  },
  {
   "cell_type": "code",
   "execution_count": 4,
   "metadata": {},
   "outputs": [
    {
     "data": {
      "text/plain": [
       "Network(\n",
       "  (fc1): Linear(in_features=784, out_features=128, bias=True)\n",
       "  (fc2): Linear(in_features=128, out_features=64, bias=True)\n",
       "  (fc3): Linear(in_features=64, out_features=10, bias=True)\n",
       ")"
      ]
     },
     "execution_count": 4,
     "metadata": {},
     "output_type": "execute_result"
    }
   ],
   "source": [
    "model = Network()\n",
    "model"
   ]
  },
  {
   "cell_type": "markdown",
   "metadata": {},
   "source": [
    "### Initializing weights and biases\n",
    "\n",
    "The weights and biases are automatically initialized for us, but it's possible to customize how they are initialized. The weights and biases are tensors attached to the layer you defined, we can get them with `model.fc1.weight` for instance."
   ]
  },
  {
   "cell_type": "code",
   "execution_count": 5,
   "metadata": {},
   "outputs": [
    {
     "name": "stdout",
     "output_type": "stream",
     "text": [
      "Layer\t Weights \t\t\t Bias\n",
      "\n",
      "fc1 \t torch.Size([128, 784]) \t torch.Size([128])\n",
      "\n",
      "fc2 \t torch.Size([64, 128]) \t\t torch.Size([64])\n",
      "\n",
      "fc3 \t torch.Size([10, 64]) \t\t torch.Size([10])\n",
      "\n"
     ]
    }
   ],
   "source": [
    "print(\"Layer\\t Weights \\t\\t\\t Bias\\n\")\n",
    "\n",
    "print(\"fc1 \\t {} \\t {}\\n\".format(model.fc1.weight.size(), model.fc1.bias.size()))\n",
    "print(\"fc2 \\t {} \\t\\t {}\\n\".format(model.fc2.weight.size(), model.fc2.bias.size()))\n",
    "print(\"fc3 \\t {} \\t\\t {}\\n\".format(model.fc3.weight.size(), model.fc3.bias.size()))"
   ]
  },
  {
   "cell_type": "markdown",
   "metadata": {},
   "source": [
    "For custom initialization, we want to modify these tensors in place. These are actually autograd *Variables*, so we need to get back the actual tensors with `model.fc1.weight.data`. Once we have the tensors, we can fill them with zeros (for biases) or random normal values."
   ]
  },
  {
   "cell_type": "code",
   "execution_count": 6,
   "metadata": {},
   "outputs": [
    {
     "data": {
      "text/plain": [
       "tensor([ 0.,  0.,  0.,  0.,  0.,  0.,  0.,  0.,  0.,  0.,  0.,  0.,\n",
       "         0.,  0.,  0.,  0.,  0.,  0.,  0.,  0.,  0.,  0.,  0.,  0.,\n",
       "         0.,  0.,  0.,  0.,  0.,  0.,  0.,  0.,  0.,  0.,  0.,  0.,\n",
       "         0.,  0.,  0.,  0.,  0.,  0.,  0.,  0.,  0.,  0.,  0.,  0.,\n",
       "         0.,  0.,  0.,  0.,  0.,  0.,  0.,  0.,  0.,  0.,  0.,  0.,\n",
       "         0.,  0.,  0.,  0.,  0.,  0.,  0.,  0.,  0.,  0.,  0.,  0.,\n",
       "         0.,  0.,  0.,  0.,  0.,  0.,  0.,  0.,  0.,  0.,  0.,  0.,\n",
       "         0.,  0.,  0.,  0.,  0.,  0.,  0.,  0.,  0.,  0.,  0.,  0.,\n",
       "         0.,  0.,  0.,  0.,  0.,  0.,  0.,  0.,  0.,  0.,  0.,  0.,\n",
       "         0.,  0.,  0.,  0.,  0.,  0.,  0.,  0.,  0.,  0.,  0.,  0.,\n",
       "         0.,  0.,  0.,  0.,  0.,  0.,  0.,  0.])"
      ]
     },
     "execution_count": 6,
     "metadata": {},
     "output_type": "execute_result"
    }
   ],
   "source": [
    "# Set biases to all zeros\n",
    "model.fc1.bias.data.fill_(0)"
   ]
  },
  {
   "cell_type": "code",
   "execution_count": 7,
   "metadata": {},
   "outputs": [
    {
     "data": {
      "text/plain": [
       "tensor([[ 8.7972e-03, -7.1804e-03,  8.4926e-03,  ..., -9.3371e-03,\n",
       "          2.5250e-03, -1.3537e-02],\n",
       "        [ 1.2592e-03, -4.0236e-03,  1.5028e-02,  ...,  3.4960e-04,\n",
       "          6.7762e-03, -1.0242e-02],\n",
       "        [ 1.6832e-02, -2.7022e-02, -1.3128e-02,  ..., -1.5762e-02,\n",
       "         -1.2686e-03, -8.9105e-03],\n",
       "        ...,\n",
       "        [-1.7712e-03,  2.0405e-04, -1.2270e-02,  ..., -2.6583e-03,\n",
       "         -3.9707e-03, -1.5162e-02],\n",
       "        [ 7.6641e-03,  1.3084e-02,  6.1063e-03,  ...,  9.6839e-03,\n",
       "         -6.7070e-03, -2.0765e-03],\n",
       "        [ 3.0937e-04, -8.7736e-03, -3.1973e-03,  ..., -9.0106e-03,\n",
       "          2.2801e-02, -7.9264e-03]])"
      ]
     },
     "execution_count": 7,
     "metadata": {},
     "output_type": "execute_result"
    }
   ],
   "source": [
    "# sample from random normal with standard dev = 0.01\n",
    "model.fc1.weight.data.normal_(std=0.01)"
   ]
  },
  {
   "cell_type": "markdown",
   "metadata": {},
   "source": [
    "### Forward pass\n",
    "\n",
    "Now that we have a network, let's see what happens when we pass in an image. This is called the forward pass. We're going to convert the image data into a tensor, then pass it through the operations defined by the network architecture."
   ]
  },
  {
   "cell_type": "code",
   "execution_count": 8,
   "metadata": {},
   "outputs": [
    {
     "data": {
      "text/plain": [
       "torch.Size([64, 1, 28, 28])"
      ]
     },
     "metadata": {},
     "output_type": "display_data"
    },
    {
     "data": {
      "text/plain": [
       "torch.Size([64])"
      ]
     },
     "metadata": {},
     "output_type": "display_data"
    }
   ],
   "source": [
    "# Grab some data \n",
    "dataiter = iter(trainloader)\n",
    "images, labels = dataiter.next()\n",
    "\n",
    "display(images.size())\n",
    "display(labels.size())"
   ]
  },
  {
   "cell_type": "code",
   "execution_count": 9,
   "metadata": {},
   "outputs": [],
   "source": [
    "'''\n",
    "Resize images into a 1D vector, \n",
    "old shape is (batch size, color channels, width pixels, height pixels) ---> [64, 1, 28, 28]\n",
    "new shape is (batch size, color channels, image pixels) ---> [64, 1, 784]\n",
    "'''\n",
    "images.resize_(images.shape[0], 1, 784);"
   ]
  },
  {
   "cell_type": "code",
   "execution_count": 10,
   "metadata": {},
   "outputs": [
    {
     "name": "stdout",
     "output_type": "stream",
     "text": [
      "Predicted Output probailities:\n",
      " tensor([[ 0.1037,  0.1029,  0.1046,  0.0977,  0.0940,  0.0975,  0.1096,\n",
      "          0.1026,  0.0989,  0.0885]])\n",
      "\n",
      "Propabilities Shape:  (1, 10)\n",
      "\n",
      "Probability of 0 is: 0.10372467339038849\n",
      "Probability of 1 is: 0.10294757038354874\n",
      "Probability of 2 is: 0.10455773025751114\n",
      "Probability of 3 is: 0.09771871566772461\n",
      "Probability of 4 is: 0.09396900236606598\n",
      "Probability of 5 is: 0.09752990305423737\n",
      "Probability of 6 is: 0.10956855118274689\n",
      "Probability of 7 is: 0.10255837440490723\n",
      "Probability of 8 is: 0.09889143705368042\n",
      "Probability of 9 is: 0.08853404223918915\n"
     ]
    }
   ],
   "source": [
    "# Forward pass through the network\n",
    "img_idx = 0\n",
    "propabilities = model.forward(images[img_idx,:])\n",
    "\n",
    "print(\"Predicted Output probailities:\\n\", propabilities)\n",
    "print()\n",
    "\n",
    "\n",
    "# Can't call numpy() on Variable that requires grad. So we use var.detach().numpy() instead.\n",
    "print(\"Propabilities Shape: \", propabilities.detach().numpy().shape)\n",
    "print()\n",
    "\n",
    "for i in range(propabilities.detach().numpy().shape[1]):\n",
    "    print(\"Probability of {} is: {}\".format(i, propabilities.detach().numpy()[0][i]))"
   ]
  },
  {
   "cell_type": "code",
   "execution_count": 11,
   "metadata": {},
   "outputs": [
    {
     "data": {
      "image/png": "[encoded data removed]",
      "text/plain": [
       "<Figure size 432x648 with 2 Axes>"
      ]
     },
     "metadata": {
      "image/png": {
       "height": 235,
       "width": 424
      },
      "needs_background": "light"
     },
     "output_type": "display_data"
    }
   ],
   "source": [
    "# use helper.view_classify to see the image but we need to change it back to 28x28 by using view().\n",
    "helper.view_classify(images[img_idx,:].view(1, 28, 28), propabilities)"
   ]
  },
  {
   "cell_type": "markdown",
   "metadata": {},
   "source": [
    "As we can see above, our network has basically no idea what this digit is. It's because we haven't trained it yet, all the weights are random!"
   ]
  },
  {
   "cell_type": "markdown",
   "metadata": {},
   "source": [
    "## Training Neural Networks\n",
    "\n",
    "The network we built in the previous part isn't so smart, it doesn't know anything about our handwritten digits. Neural networks with non-linear activations work like universal function approximators. There is some function that maps our input to the output. For example, images of handwritten digits to class probabilities. The power of neural networks is that we can train them to approximate this function, and basically any function given enough data and compute time.\n",
    "\n",
    "<img src=\"assets\\function_approx.png\" width=\"500\"/>\n",
    "\n",
    "At first the network is naive, it doesn't know the function mapping the inputs to the outputs. We train the network by showing it examples of real data, then adjusting the network parameters such that it approximates this function.\n",
    "\n",
    "To find these parameters, we need to know how poorly the network is predicting the real outputs. For this we calculate a **loss function** (also called the cost function), a measure of our prediction error. For example, the mean squared loss is often used in regression and binary classification problems\n",
    "\n",
    "$$\n",
    "\\ell = \\frac{1}{2n}\\sum_i^n{\\left(y_i - \\hat{y}_i\\right)^2}\n",
    "$$\n",
    "\n",
    "where $n$ is the number of training examples, $y_i$ are the true labels, and $\\hat{y}_i$ are the predicted labels.\n",
    "\n",
    "By minimizing this loss with respect to the network parameters, we can find configurations where the loss is at a minimum and the network is able to predict the correct labels with high accuracy. We find this minimum using a process called **gradient descent**. The gradient is the slope of the loss function and points in the direction of fastest change. To get to the minimum in the least amount of time, we then want to follow the gradient (downwards). You can think of this like descending a mountain by following the steepest slope to the base.\n",
    "\n",
    "<img src='assets\\gradient_descent.png' width=350/>"
   ]
  },
  {
   "cell_type": "markdown",
   "metadata": {},
   "source": [
    "### Backpropagation\n",
    "\n",
    "For single layer networks, gradient descent is simple to implement. However, it's more complicated for deeper, multilayer neural networks like the one we've built. Complicated enough that it took about 30 years before researchers figured out how to train multilayer networks, although it's straightforward once we learn about it. \n",
    "\n",
    "This is done through **backpropagation** which is really just an application of the chain rule from calculus. It's easiest to understand if we convert a two layer network into a graph representation.\n",
    "\n",
    "<img src='assets/w1_backprop_graph.png' width=\"400\"/>\n",
    "\n",
    "In the forward pass through the network, our data and operations go from right to left here. To train the weights with gradient descent, we propagate the gradient of the cost backwards through the network. Mathematically, this is really just calculating the gradient of the loss with respect to the weights using the chain rule.\n",
    "\n",
    "$$\n",
    "\\frac{\\partial \\ell}{\\partial w_1} = \\frac{\\partial l_1}{\\partial w_1} \\frac{\\partial s}{\\partial l_1} \\frac{\\partial l_2}{\\partial s} \\frac{\\partial \\ell}{\\partial l_2}\n",
    "$$\n",
    "\n",
    "We update our weights using this gradient with some learning rate $\\alpha$. \n",
    "\n",
    "$$\n",
    "w^\\prime = w - \\alpha \\frac{\\partial \\ell}{\\partial w}\n",
    "$$\n",
    "\n",
    "The learning rate is set such that the weight update steps are small enough that the iterative method settles in a minimum."
   ]
  },
  {
   "cell_type": "markdown",
   "metadata": {},
   "source": [
    "### Autograd\n",
    "\n",
    "Torch provides a module, `autograd`, for automatically calculating the gradient of tensors. It does this by keeping track of operations performed on tensors. To make sure PyTorch keeps track of operations on a tensor and calculates the gradients, you need to set `requires_grad` on a tensor. You can do this at creation with the `requires_grad` keyword, or at any time with `x.requires_grad_(True)`."
   ]
  },
  {
   "cell_type": "markdown",
   "metadata": {},
   "source": [
    "We'll build a network with `nn.Sequential` here. Only difference from the last part is we're not actually using softmax on the output, but instead just using the raw output from the last layer. This is because the output from softmax is a probability distribution. Often, the output will have values really close to zero or really close to one. Due to [inaccuracies with representing numbers as floating points](https://docs.python.org/3/tutorial/floatingpoint.html), computations with a softmax output can lose accuracy and become unstable. To get around this, we'll use the raw output, called the **logits**, to calculate the loss."
   ]
  },
  {
   "cell_type": "code",
   "execution_count": 12,
   "metadata": {},
   "outputs": [],
   "source": [
    "# Hyperparameters for our network\n",
    "input_size = 784\n",
    "hidden_sizes = [128, 64]\n",
    "output_size = 10\n",
    "\n",
    "# Build a feed-forward network\n",
    "model = nn.Sequential(OrderedDict([\n",
    "                      ('fc1', nn.Linear(input_size, hidden_sizes[0])),\n",
    "                      ('relu1', nn.ReLU()),\n",
    "                      ('drop1', nn.Dropout(0.2)), \n",
    "                      ('fc2', nn.Linear(hidden_sizes[0], hidden_sizes[1])),\n",
    "                      ('relu2', nn.ReLU()),\n",
    "                      ('drop2', nn.Dropout(0.2)), \n",
    "                      ('logits', nn.Linear(hidden_sizes[1], output_size))]))"
   ]
  },
  {
   "cell_type": "code",
   "execution_count": 13,
   "metadata": {},
   "outputs": [],
   "source": [
    "# Set biases to all zeros\n",
    "model.fc1.bias.data.fill_(0)\n",
    "\n",
    "# sample from random normal with standard dev = 0.01\n",
    "model.fc1.weight.data.normal_(std=0.01);"
   ]
  },
  {
   "cell_type": "markdown",
   "metadata": {},
   "source": [
    "## Training the network\n",
    "\n",
    "The first thing we need to do for training is define our loss function. In PyTorch, you'll usually see this as `criterion`. Here we're using softmax output, so we want to use `criterion = nn.CrossEntropyLoss()` as our loss. Later when training, you use `loss = criterion(output, targets)` to calculate the actual loss.\n",
    "\n",
    "We also need to define the optimizer we're using, SGD or Adam, or something along those lines. Here I'll just use SGD with `torch.optim.SGD`, passing in the network parameters and the learning rate."
   ]
  },
  {
   "cell_type": "code",
   "execution_count": 14,
   "metadata": {},
   "outputs": [],
   "source": [
    "criterion = nn.CrossEntropyLoss()\n",
    "optimizer = optim.SGD(model.parameters(), lr=0.003)"
   ]
  },
  {
   "cell_type": "markdown",
   "metadata": {},
   "source": [
    "First, let's consider just one learning step before looping through all the data. The general process with PyTorch:\n",
    "\n",
    "* Make a forward pass through the network to get the logits \n",
    "* Use the logits to calculate the loss\n",
    "* Perform a backward pass through the network with `loss.backward()` to calculate the gradients\n",
    "* Take a step with the optimizer to update the weights"
   ]
  },
  {
   "cell_type": "code",
   "execution_count": 15,
   "metadata": {},
   "outputs": [],
   "source": [
    "# Implement a function for the validation pass\n",
    "def validation(model, testloader, criterion):\n",
    "    test_loss = 0\n",
    "    accuracy = 0\n",
    "    for images, labels in testloader:\n",
    "\n",
    "        images.resize_(images.shape[0], 784)\n",
    "\n",
    "        logits = model.forward(images)\n",
    "        test_loss += criterion(logits, labels).item()\n",
    "\n",
    "        ps = F.softmax(logits, dim=1)\n",
    "        equality = (labels.data == ps.max(dim=1)[1])\n",
    "        accuracy += equality.type(torch.FloatTensor).mean()\n",
    "    \n",
    "    return test_loss, accuracy"
   ]
  },
  {
   "cell_type": "code",
   "execution_count": 16,
   "metadata": {},
   "outputs": [
    {
     "name": "stdout",
     "output_type": "stream",
     "text": [
      "Epoch: 1/40..  Training Loss: 2.231..  Test Loss: 2.116..  Test Accuracy: 0.434\n",
      "Epoch: 1/40..  Training Loss: 1.963..  Test Loss: 1.699..  Test Accuracy: 0.554\n",
      "Epoch: 2/40..  Training Loss: 1.526..  Test Loss: 1.190..  Test Accuracy: 0.747\n",
      "Epoch: 2/40..  Training Loss: 1.146..  Test Loss: 0.879..  Test Accuracy: 0.796\n",
      "Epoch: 3/40..  Training Loss: 0.920..  Test Loss: 0.708..  Test Accuracy: 0.835\n",
      "Epoch: 3/40..  Training Loss: 0.791..  Test Loss: 0.604..  Test Accuracy: 0.851\n",
      "Epoch: 3/40..  Training Loss: 0.701..  Test Loss: 0.529..  Test Accuracy: 0.865\n",
      "Epoch: 4/40..  Training Loss: 0.642..  Test Loss: 0.480..  Test Accuracy: 0.873\n",
      "Epoch: 4/40..  Training Loss: 0.589..  Test Loss: 0.442..  Test Accuracy: 0.883\n",
      "Epoch: 5/40..  Training Loss: 0.559..  Test Loss: 0.412..  Test Accuracy: 0.888\n",
      "Epoch: 5/40..  Training Loss: 0.524..  Test Loss: 0.391..  Test Accuracy: 0.893\n",
      "Epoch: 6/40..  Training Loss: 0.499..  Test Loss: 0.371..  Test Accuracy: 0.898\n",
      "Epoch: 6/40..  Training Loss: 0.483..  Test Loss: 0.360..  Test Accuracy: 0.901\n",
      "Epoch: 6/40..  Training Loss: 0.466..  Test Loss: 0.347..  Test Accuracy: 0.904\n",
      "Epoch: 7/40..  Training Loss: 0.444..  Test Loss: 0.334..  Test Accuracy: 0.907\n",
      "Epoch: 7/40..  Training Loss: 0.432..  Test Loss: 0.327..  Test Accuracy: 0.908\n",
      "Epoch: 8/40..  Training Loss: 0.433..  Test Loss: 0.317..  Test Accuracy: 0.911\n",
      "Epoch: 8/40..  Training Loss: 0.416..  Test Loss: 0.309..  Test Accuracy: 0.913\n",
      "Epoch: 9/40..  Training Loss: 0.398..  Test Loss: 0.304..  Test Accuracy: 0.914\n",
      "Epoch: 9/40..  Training Loss: 0.394..  Test Loss: 0.297..  Test Accuracy: 0.915\n",
      "Epoch: 9/40..  Training Loss: 0.386..  Test Loss: 0.292..  Test Accuracy: 0.916\n",
      "Epoch: 10/40..  Training Loss: 0.381..  Test Loss: 0.285..  Test Accuracy: 0.919\n",
      "Epoch: 10/40..  Training Loss: 0.372..  Test Loss: 0.280..  Test Accuracy: 0.921\n",
      "Epoch: 11/40..  Training Loss: 0.373..  Test Loss: 0.275..  Test Accuracy: 0.921\n",
      "Epoch: 11/40..  Training Loss: 0.356..  Test Loss: 0.274..  Test Accuracy: 0.920\n",
      "Epoch: 12/40..  Training Loss: 0.354..  Test Loss: 0.266..  Test Accuracy: 0.923\n",
      "Epoch: 12/40..  Training Loss: 0.341..  Test Loss: 0.261..  Test Accuracy: 0.924\n",
      "Epoch: 12/40..  Training Loss: 0.348..  Test Loss: 0.259..  Test Accuracy: 0.924\n",
      "Epoch: 13/40..  Training Loss: 0.338..  Test Loss: 0.254..  Test Accuracy: 0.925\n",
      "Epoch: 13/40..  Training Loss: 0.327..  Test Loss: 0.249..  Test Accuracy: 0.927\n",
      "Epoch: 14/40..  Training Loss: 0.332..  Test Loss: 0.247..  Test Accuracy: 0.927\n",
      "Epoch: 14/40..  Training Loss: 0.316..  Test Loss: 0.241..  Test Accuracy: 0.929\n",
      "Epoch: 15/40..  Training Loss: 0.317..  Test Loss: 0.238..  Test Accuracy: 0.929\n",
      "Epoch: 15/40..  Training Loss: 0.309..  Test Loss: 0.236..  Test Accuracy: 0.929\n",
      "Epoch: 15/40..  Training Loss: 0.316..  Test Loss: 0.234..  Test Accuracy: 0.930\n",
      "Epoch: 16/40..  Training Loss: 0.310..  Test Loss: 0.230..  Test Accuracy: 0.931\n",
      "Epoch: 16/40..  Training Loss: 0.296..  Test Loss: 0.226..  Test Accuracy: 0.933\n",
      "Epoch: 17/40..  Training Loss: 0.299..  Test Loss: 0.226..  Test Accuracy: 0.931\n",
      "Epoch: 17/40..  Training Loss: 0.289..  Test Loss: 0.221..  Test Accuracy: 0.935\n",
      "Epoch: 18/40..  Training Loss: 0.289..  Test Loss: 0.218..  Test Accuracy: 0.934\n",
      "Epoch: 18/40..  Training Loss: 0.288..  Test Loss: 0.214..  Test Accuracy: 0.938\n",
      "Epoch: 18/40..  Training Loss: 0.283..  Test Loss: 0.213..  Test Accuracy: 0.936\n",
      "Epoch: 19/40..  Training Loss: 0.278..  Test Loss: 0.210..  Test Accuracy: 0.938\n",
      "Epoch: 19/40..  Training Loss: 0.286..  Test Loss: 0.207..  Test Accuracy: 0.939\n",
      "Epoch: 20/40..  Training Loss: 0.273..  Test Loss: 0.206..  Test Accuracy: 0.939\n",
      "Epoch: 20/40..  Training Loss: 0.271..  Test Loss: 0.201..  Test Accuracy: 0.940\n",
      "Epoch: 21/40..  Training Loss: 0.261..  Test Loss: 0.199..  Test Accuracy: 0.941\n",
      "Epoch: 21/40..  Training Loss: 0.269..  Test Loss: 0.198..  Test Accuracy: 0.941\n",
      "Epoch: 21/40..  Training Loss: 0.257..  Test Loss: 0.194..  Test Accuracy: 0.941\n",
      "Epoch: 22/40..  Training Loss: 0.264..  Test Loss: 0.195..  Test Accuracy: 0.942\n",
      "Epoch: 22/40..  Training Loss: 0.257..  Test Loss: 0.191..  Test Accuracy: 0.942\n",
      "Epoch: 23/40..  Training Loss: 0.250..  Test Loss: 0.189..  Test Accuracy: 0.943\n",
      "Epoch: 23/40..  Training Loss: 0.243..  Test Loss: 0.193..  Test Accuracy: 0.942\n",
      "Epoch: 24/40..  Training Loss: 0.250..  Test Loss: 0.185..  Test Accuracy: 0.945\n",
      "Epoch: 24/40..  Training Loss: 0.246..  Test Loss: 0.183..  Test Accuracy: 0.945\n",
      "Epoch: 24/40..  Training Loss: 0.243..  Test Loss: 0.181..  Test Accuracy: 0.947\n",
      "Epoch: 25/40..  Training Loss: 0.243..  Test Loss: 0.179..  Test Accuracy: 0.948\n",
      "Epoch: 25/40..  Training Loss: 0.243..  Test Loss: 0.179..  Test Accuracy: 0.948\n",
      "Epoch: 26/40..  Training Loss: 0.231..  Test Loss: 0.178..  Test Accuracy: 0.947\n",
      "Epoch: 26/40..  Training Loss: 0.232..  Test Loss: 0.176..  Test Accuracy: 0.948\n",
      "Epoch: 27/40..  Training Loss: 0.234..  Test Loss: 0.172..  Test Accuracy: 0.950\n",
      "Epoch: 27/40..  Training Loss: 0.230..  Test Loss: 0.170..  Test Accuracy: 0.949\n",
      "Epoch: 27/40..  Training Loss: 0.228..  Test Loss: 0.172..  Test Accuracy: 0.948\n",
      "Epoch: 28/40..  Training Loss: 0.228..  Test Loss: 0.169..  Test Accuracy: 0.950\n",
      "Epoch: 28/40..  Training Loss: 0.218..  Test Loss: 0.166..  Test Accuracy: 0.951\n",
      "Epoch: 29/40..  Training Loss: 0.228..  Test Loss: 0.166..  Test Accuracy: 0.951\n",
      "Epoch: 29/40..  Training Loss: 0.220..  Test Loss: 0.164..  Test Accuracy: 0.951\n",
      "Epoch: 29/40..  Training Loss: 0.223..  Test Loss: 0.165..  Test Accuracy: 0.951\n",
      "Epoch: 30/40..  Training Loss: 0.223..  Test Loss: 0.160..  Test Accuracy: 0.953\n",
      "Epoch: 30/40..  Training Loss: 0.212..  Test Loss: 0.160..  Test Accuracy: 0.953\n",
      "Epoch: 31/40..  Training Loss: 0.218..  Test Loss: 0.159..  Test Accuracy: 0.954\n",
      "Epoch: 31/40..  Training Loss: 0.209..  Test Loss: 0.157..  Test Accuracy: 0.953\n",
      "Epoch: 32/40..  Training Loss: 0.210..  Test Loss: 0.157..  Test Accuracy: 0.955\n",
      "Epoch: 32/40..  Training Loss: 0.204..  Test Loss: 0.155..  Test Accuracy: 0.955\n",
      "Epoch: 32/40..  Training Loss: 0.209..  Test Loss: 0.153..  Test Accuracy: 0.955\n",
      "Epoch: 33/40..  Training Loss: 0.205..  Test Loss: 0.152..  Test Accuracy: 0.956\n",
      "Epoch: 33/40..  Training Loss: 0.206..  Test Loss: 0.151..  Test Accuracy: 0.956\n",
      "Epoch: 34/40..  Training Loss: 0.199..  Test Loss: 0.151..  Test Accuracy: 0.956\n",
      "Epoch: 34/40..  Training Loss: 0.200..  Test Loss: 0.148..  Test Accuracy: 0.956\n",
      "Epoch: 35/40..  Training Loss: 0.199..  Test Loss: 0.148..  Test Accuracy: 0.957\n",
      "Epoch: 35/40..  Training Loss: 0.193..  Test Loss: 0.149..  Test Accuracy: 0.956\n",
      "Epoch: 35/40..  Training Loss: 0.201..  Test Loss: 0.147..  Test Accuracy: 0.957\n",
      "Epoch: 36/40..  Training Loss: 0.197..  Test Loss: 0.146..  Test Accuracy: 0.957\n",
      "Epoch: 36/40..  Training Loss: 0.190..  Test Loss: 0.145..  Test Accuracy: 0.957\n",
      "Epoch: 37/40..  Training Loss: 0.193..  Test Loss: 0.143..  Test Accuracy: 0.958\n",
      "Epoch: 37/40..  Training Loss: 0.190..  Test Loss: 0.141..  Test Accuracy: 0.958\n",
      "Epoch: 38/40..  Training Loss: 0.189..  Test Loss: 0.141..  Test Accuracy: 0.959\n",
      "Epoch: 38/40..  Training Loss: 0.188..  Test Loss: 0.141..  Test Accuracy: 0.959\n",
      "Epoch: 38/40..  Training Loss: 0.187..  Test Loss: 0.140..  Test Accuracy: 0.959\n",
      "Epoch: 39/40..  Training Loss: 0.185..  Test Loss: 0.138..  Test Accuracy: 0.959\n",
      "Epoch: 39/40..  Training Loss: 0.181..  Test Loss: 0.136..  Test Accuracy: 0.961\n",
      "Epoch: 40/40..  Training Loss: 0.190..  Test Loss: 0.136..  Test Accuracy: 0.961\n",
      "Epoch: 40/40..  Training Loss: 0.183..  Test Loss: 0.137..  Test Accuracy: 0.961\n"
     ]
    }
   ],
   "source": [
    "# Training the Neural Network\n",
    "epochs = 40\n",
    "print_every = 400\n",
    "steps = 0\n",
    "running_loss = 0\n",
    "\n",
    "for e in range(epochs):\n",
    "    model.train()\n",
    "    for images, labels in iter(trainloader):\n",
    "        steps += 1\n",
    "        # Flatten MNIST images into a 784 long vector\n",
    "        images.resize_(images.size()[0], 784)\n",
    "        \n",
    "        optimizer.zero_grad()\n",
    "        \n",
    "        # Forward and backward passes\n",
    "        output = model.forward(images)\n",
    "        loss = criterion(output, labels)\n",
    "        loss.backward()\n",
    "        optimizer.step()\n",
    "        \n",
    "        running_loss += loss.item()\n",
    "        \n",
    "        if steps % print_every == 0:\n",
    "            # Make sure network is in eval mode for inference\n",
    "            model.eval()\n",
    "            \n",
    "            # Turn off gradients for validation, saves memory and computations\n",
    "            with torch.no_grad():\n",
    "                test_loss, accuracy = validation(model, testloader, criterion)\n",
    "                \n",
    "            print(\"Epoch: {}/{}.. \".format(e+1, epochs),\n",
    "                  \"Training Loss: {:.3f}.. \".format(running_loss/print_every),\n",
    "                  \"Test Loss: {:.3f}.. \".format(test_loss/len(testloader)),\n",
    "                  \"Test Accuracy: {:.3f}\".format(accuracy/len(testloader)))\n",
    "            \n",
    "            running_loss = 0\n",
    "            \n",
    "            # Make sure training is back on\n",
    "            model.train()"
   ]
  },
  {
   "cell_type": "markdown",
   "metadata": {},
   "source": [
    "With the network trained, we can check out it's predictions."
   ]
  },
  {
   "cell_type": "code",
   "execution_count": 17,
   "metadata": {},
   "outputs": [
    {
     "data": {
      "image/png": "[encoded data removed]",
      "text/plain": [
       "<Figure size 432x648 with 2 Axes>"
      ]
     },
     "metadata": {
      "image/png": {
       "height": 235,
       "width": 424
      },
      "needs_background": "light"
     },
     "output_type": "display_data"
    }
   ],
   "source": [
    "# Inference\n",
    "images, labels = next(iter(trainloader))\n",
    "\n",
    "img = images[0,:].view(1, 784)\n",
    "# Turn off gradients to speed up this part\n",
    "with torch.no_grad():\n",
    "    logits = model.forward(img)\n",
    "\n",
    "# Output of the network are logits, need to take softmax for probabilities\n",
    "ps = F.softmax(logits, dim=1)\n",
    "helper.view_classify(img.view(1, 28, 28), ps)"
   ]
  },
  {
   "cell_type": "markdown",
   "metadata": {},
   "source": [
    "Now our network is brilliant. It can accurately predict the digits in our images."
   ]
  },
  {
   "cell_type": "markdown",
   "metadata": {},
   "source": [
    "## Accuracy Testing"
   ]
  },
  {
   "cell_type": "code",
   "execution_count": 18,
   "metadata": {},
   "outputs": [
    {
     "name": "stdout",
     "output_type": "stream",
     "text": [
      "Test Accuracy: 0.961\n"
     ]
    }
   ],
   "source": [
    "# Final Testing Accuracy\n",
    "\n",
    "model.eval()\n",
    "accuracy = 0\n",
    "for images, labels in iter(testloader):\n",
    "\n",
    "        images.resize_(images.shape[0], 784)\n",
    "        with torch.no_grad():\n",
    "            output = model.forward(images)\n",
    "        \n",
    "        ps = torch.exp(output)\n",
    "        equality = (labels.data == ps.max(dim=1)[1])\n",
    "        accuracy += equality.type(torch.FloatTensor).mean()\n",
    "print(\"Test Accuracy: {:.3f}\".format(accuracy/len(testloader)))"
   ]
  }
 ],
 "metadata": {
  "kernelspec": {
   "display_name": "Python 3",
   "language": "python",
   "name": "python3"
  },
  "language_info": {
   "codemirror_mode": {
    "name": "ipython",
    "version": 3
   },
   "file_extension": ".py",
   "mimetype": "text/x-python",
   "name": "python",
   "nbconvert_exporter": "python",
   "pygments_lexer": "ipython3",
   "version": "3.6.9"
  }
 },
 "nbformat": 4,
 "nbformat_minor": 2
}
